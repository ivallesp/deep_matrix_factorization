{
 "cells": [
  {
   "cell_type": "markdown",
   "metadata": {},
   "source": [
    "# Matrix Factorization implementation "
   ]
  },
  {
   "cell_type": "markdown",
   "metadata": {},
   "source": [
    "Iván Vallés Pérez - 2018"
   ]
  },
  {
   "cell_type": "markdown",
   "metadata": {},
   "source": [
    "In a [recommender system](https://en.wikipedia.org/wiki/Recommender_system) we have two kind of entities: users and items. We want to predict for an arbitrary user which items the user prefers. Sometimes users give explicit ratings, for example 4 or 5 star reviews. Let's start with this case and give an accurate mathematical formulation of the problem.\n",
    "\n",
    "We will call $r_{ij}$ the rating that user $i$ gives to item $j$ and we want to build a model to predict these ratings. Let's call the predictions of the model $\\hat{r}_{ij}$. It's important to realize that since each user will probably give ratings to just a handful of items and in most cases there are thousands or even millions of items we don't have ratings for the vast majority of user-item possible interactions. Let's call $I$ the set of known interactions and let's suppose that we want to minimize the squared loss, that is, we want to minimize:\n",
    "\n",
    "\\begin{equation}\n",
    "L = \\sum_{(i,j) \\in I} (r_{ij} - \\hat{r}_{ij})^2\n",
    "\\end{equation}\n",
    "\n",
    "A matrix-factorization based recommender will solve the above problem by supposing that:\n",
    "\n",
    "- We represent user $i$ with an unknown user bias $u_i^b$ and an unknown vector of length $K$ that we will call $u_i^e$, which is usually called the user embedding.\n",
    "- We represent item $j$ with an unknown item bias $v_j^b$ and an unknown vector of length $K$ that we will call $v_j^e$, which is usually called the item embedding.\n",
    "- The predicted rating of item $j$ by user $i$ is the biases plus the dot product of the two embeddings: \n",
    "\n",
    "\\begin{equation}\n",
    "\\hat{r}_{ij} = u_i^b + v_j^b + u_i^e \\cdot v_j^e = u_i^b + v_j^b + \\sum_{k=1}^K u_{ik}^ev_{jk}^e\n",
    "\\end{equation}\n",
    "\n",
    "The above vectors are the parameters of our problem and $K$ is a hyperparameter. If we have $N$ users and $M$ items this means that we have $(K + 1)(N + M)$ parameters. Substituting inside the loss function we have:\n",
    "\n",
    "\\begin{equation}\n",
    "L = \\sum_{(i,j) \\in I} (r_{ij} - u_i^b - v_j^b - \\sum_{k=1}^K  u_{ik}^ev_{jk}^e)^2\n",
    "\\end{equation}\n",
    "\n",
    "To improve the generalization capabilities of the model regularization is added and finally we have:\n",
    "\n",
    "\\begin{equation}\n",
    "L = \\sum_{(i,j) \\in I} (r_{ij} -  u_i^b - v_j^b - \\sum_{k=1}^Ku_{ik}^ev_{jk}^e)^2 + \\lambda_u\\sum_{i,k} (u_{ik}^e)^2 + \\lambda_v\\sum_{j, k} (v_{jk}^e)^2\n",
    "\\end{equation}\n",
    "\n",
    "$\\lambda_u$ and $\\lambda_v$ are two additional hyperparameters."
   ]
  },
  {
   "cell_type": "code",
   "execution_count": null,
   "metadata": {
    "scrolled": true
   },
   "outputs": [],
   "source": [
    "%cd .."
   ]
  },
  {
   "cell_type": "code",
   "execution_count": 2,
   "metadata": {},
   "outputs": [
    {
     "name": "stderr",
     "output_type": "stream",
     "text": [
      "C:\\Users\\Ivan Valles Perez\\AppData\\Local\\Continuum\\Anaconda3\\lib\\site-packages\\h5py\\__init__.py:34: FutureWarning: Conversion of the second argument of issubdtype from `float` to `np.floating` is deprecated. In future, it will be treated as `np.float64 == np.dtype(float).type`.\n",
      "  from ._conv import register_converters as _register_converters\n"
     ]
    }
   ],
   "source": [
    "from src.matrix_factorization import MatrixFactorization\n",
    "from src.deep_factorization import DeepFactorization"
   ]
  },
  {
   "cell_type": "code",
   "execution_count": 3,
   "metadata": {
    "collapsed": true
   },
   "outputs": [],
   "source": [
    "import pandas as pd\n",
    "import numpy as np\n",
    "import matplotlib.pyplot as plt\n",
    "from IPython.display import clear_output\n",
    "\n",
    "# Load the data and calculate the users set and items set cardinalities\n",
    "df = pd.read_csv(\"./data/interactions.csv\", names=[\"U\", \"I\", \"Q\"])\n",
    "U_cardinality = df.U.nunique()\n",
    "I_cardinality = df.I.nunique()"
   ]
  },
  {
   "cell_type": "code",
   "execution_count": 4,
   "metadata": {
    "collapsed": true
   },
   "outputs": [],
   "source": [
    "# Generates and shuffles the data set to remove possible tendencies\n",
    "np.random.seed(655321)\n",
    "mat = df.values\n",
    "np.random.shuffle(mat)"
   ]
  },
  {
   "cell_type": "code",
   "execution_count": 5,
   "metadata": {
    "collapsed": true
   },
   "outputs": [],
   "source": [
    "# Divide the data set into train-dev-test\n",
    "train_mat = mat[:85000]\n",
    "dev_mat = mat[85000:90000]\n",
    "test_mat = mat[90000:]"
   ]
  },
  {
   "cell_type": "code",
   "execution_count": 6,
   "metadata": {
    "collapsed": true
   },
   "outputs": [],
   "source": [
    "# Separate features from target\n",
    "x_train=(train_mat[:,:2]-1)\n",
    "y_train=(train_mat[:,2:])\n",
    "x_dev=(dev_mat[:,:2]-1)\n",
    "y_dev=(dev_mat[:,2:])\n",
    "x_test=(test_mat[:,:2]-1)\n",
    "y_test=(test_mat[:,2:])"
   ]
  },
  {
   "cell_type": "markdown",
   "metadata": {},
   "source": [
    "## Matrix Factorization"
   ]
  },
  {
   "cell_type": "code",
   "execution_count": 7,
   "metadata": {
    "collapsed": true
   },
   "outputs": [],
   "source": [
    "# Initialize the model and the performance accumulators for reporting purposes\n",
    "# The metaparameters have been tuned to improve the algorithm performance\n",
    "MF = MatrixFactorization(n_users=U_cardinality, n_items=I_cardinality, emb_size=5, lr=0.002, _lambda=0.1)\n",
    "losses_train = [MF.evaluate(x_train, y_train, batch_size=1000)] # Add the initial loss (w. random weights)\n",
    "losses_dev = [MF.evaluate(x_dev, y_dev, batch_size=1000)] # Add the initial loss (w. random weights)"
   ]
  },
  {
   "cell_type": "code",
   "execution_count": 8,
   "metadata": {},
   "outputs": [
    {
     "data": {
      "image/png": "[encoded data removed]",
      "text/plain": [
       "<matplotlib.figure.Figure at 0x1d9b5618278>"
      ]
     },
     "metadata": {},
     "output_type": "display_data"
    },
    {
     "name": "stdout",
     "output_type": "stream",
     "text": [
      "[EPOCH 50]   Train error = 0.8782 | Dev error = 0.9866\n",
      "Test MSE achieved = 1.0151\n"
     ]
    }
   ],
   "source": [
    "for i in range(50): # Run for 50 epochs\n",
    "    \n",
    "    MF.fit(x_train, y_train, batch_size=128) # Compute an epoch using SGD\n",
    "    losses_train.append(MF.evaluate(x_train, y_train, batch_size=128)) # Compute the train performance\n",
    "    losses_dev.append(MF.evaluate(x_dev, y_dev, batch_size=128)) # Compute the dev. performance\n",
    "    \n",
    "    # Plot train and dev errors over time\n",
    "    clear_output(True)\n",
    "    plt.figure(figsize=[10, 3])\n",
    "    plt.plot(losses_train)\n",
    "    plt.plot(losses_dev)\n",
    "    axes = plt.gca()\n",
    "    plt.legend([\"Train MSE\", \"Dev MSE\"])\n",
    "    plt.title(\"Training errors over time (Mean Squared Error)\")\n",
    "    plt.ylabel(\"Log-MSE\")\n",
    "    plt.xlabel(\"Epochs\")\n",
    "    plt.ylim([0.1, axes.get_ylim()[1]])\n",
    "    plt.yscale('log')\n",
    "    plt.grid(True, which=\"both\",ls=\"-\")\n",
    "    plt.show()\n",
    "    print(\"[EPOCH {0}]   Train error = {1:.4f} | Dev error = {2:.4f}\".format(i+1, losses_train[-1], losses_dev[-1]))\n",
    "\n",
    "print(\"Test MSE achieved = {0:.4f}\".format(MF.evaluate(x_test, y_test, batch_size=128)))\n"
   ]
  },
  {
   "cell_type": "markdown",
   "metadata": {},
   "source": [
    "## Extra: solution using deep learning"
   ]
  },
  {
   "cell_type": "code",
   "execution_count": 9,
   "metadata": {},
   "outputs": [],
   "source": [
    "DF = DeepFactorization(n_users=U_cardinality, n_items=I_cardinality, emb_size=5, lr=0.002, _lambda=0.1)\n",
    "losses_train = [DF.evaluate(x_train, y_train, batch_size=1000)] # Add the initial loss (w. random weights)\n",
    "losses_dev = [DF.evaluate(x_dev, y_dev, batch_size=1000)] # Add the initial loss (w. random weights)"
   ]
  },
  {
   "cell_type": "code",
   "execution_count": 10,
   "metadata": {},
   "outputs": [
    {
     "data": {
      "image/png": "[encoded data removed]",
      "text/plain": [
       "<matplotlib.figure.Figure at 0x1d9b3e83128>"
      ]
     },
     "metadata": {},
     "output_type": "display_data"
    },
    {
     "name": "stdout",
     "output_type": "stream",
     "text": [
      "[EPOCH 50]   Train error = 0.8092 | Dev error = 0.9122\n",
      "Test MSE achieved = 0.9285\n"
     ]
    }
   ],
   "source": [
    "for i in range(50): # Run for 50 epochs\n",
    "    \n",
    "    DF.fit(x_train, y_train, batch_size=128) # Compute an epoch using SGD\n",
    "    losses_train.append(DF.evaluate(x_train, y_train, batch_size=128)) # Compute the train performance\n",
    "    losses_dev.append(DF.evaluate(x_dev, y_dev, batch_size=128)) # Compute the dev. performance\n",
    "    \n",
    "    # Plot train and dev errors over time\n",
    "    clear_output(True)\n",
    "    plt.figure(figsize=[10, 3])\n",
    "    plt.plot(losses_train)\n",
    "    plt.plot(losses_dev)\n",
    "    axes = plt.gca()\n",
    "    plt.legend([\"Train MSE\", \"Dev MSE\"])\n",
    "    plt.title(\"Training errors over time (Mean Squared Error)\")\n",
    "    plt.ylabel(\"Log-MSE\")\n",
    "    plt.xlabel(\"Epochs\")\n",
    "    plt.ylim([0.1, axes.get_ylim()[1]])\n",
    "    plt.yscale('log')\n",
    "    plt.grid(True, which=\"both\",ls=\"-\")\n",
    "    plt.show()\n",
    "    print(\"[EPOCH {0}]   Train error = {1:.4f} | Dev error = {2:.4f}\".format(i+1, losses_train[-1], losses_dev[-1]))\n",
    "\n",
    "print(\"Test MSE achieved = {0:.4f}\".format(DF.evaluate(x_test, y_test, batch_size=128)))\n"
   ]
  }
 ],
 "metadata": {
  "kernelspec": {
   "display_name": "Python 3",
   "language": "python",
   "name": "python3"
  },
  "language_info": {
   "codemirror_mode": {
    "name": "ipython",
    "version": 3
   },
   "file_extension": ".py",
   "mimetype": "text/x-python",
   "name": "python",
   "nbconvert_exporter": "python",
   "pygments_lexer": "ipython3",
   "version": "3.6.1"
  }
 },
 "nbformat": 4,
 "nbformat_minor": 2
}
